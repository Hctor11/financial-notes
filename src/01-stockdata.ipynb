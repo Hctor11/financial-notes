{
 "cells": [
  {
   "cell_type": "markdown",
   "metadata": {},
   "source": [
    "# Python for finance: Get stock market data\n",
    "\n",
    "using pandas to import data from stock markets."
   ]
  },
  {
   "cell_type": "code",
   "execution_count": 16,
   "metadata": {},
   "outputs": [],
   "source": [
    "import datetime as dt\n",
    "import pandas as pd\n",
    "from pandas_datareader import data as pdr\n",
    "import yfinance as yfin"
   ]
  },
  {
   "cell_type": "markdown",
   "metadata": {},
   "source": [
    "### 1 - specify date range for analysis\n",
    "Create start and end date using the date time module."
   ]
  },
  {
   "cell_type": "code",
   "execution_count": 17,
   "metadata": {},
   "outputs": [
    {
     "data": {
      "text/plain": [
       "(datetime.datetime(2018, 10, 6, 16, 44, 11, 99862),\n",
       " datetime.datetime(2024, 3, 28, 16, 44, 12, 99863))"
      ]
     },
     "execution_count": 17,
     "metadata": {},
     "output_type": "execute_result"
    }
   ],
   "source": [
    "yfin.pdr_override()\n",
    "end = dt.datetime.now()\n",
    "start = end - dt.timedelta(2000, 1,1) # delta\n",
    "start, end\n"
   ]
  },
  {
   "cell_type": "markdown",
   "metadata": {},
   "source": [
    "### 2 - Select the stocks or tickets that we will analyse\n",
    "is important to use the stock with the . and the country name"
   ]
  },
  {
   "cell_type": "code",
   "execution_count": 11,
   "metadata": {},
   "outputs": [
    {
     "data": {
      "text/plain": [
       "['CBA.AX', 'NAB.AX', 'WBC.AX', 'ANZ.AX']"
      ]
     },
     "execution_count": 11,
     "metadata": {},
     "output_type": "execute_result"
    }
   ],
   "source": [
    "stockList = ['CBA', 'NAB', 'WBC', 'ANZ']\n",
    "stocks = [i + '.AX' for i in stockList]\n",
    "stocks"
   ]
  },
  {
   "cell_type": "markdown",
   "metadata": {},
   "source": [
    "### 3 - Call the datareader module\n",
    "there are two ways of doing this:\n",
    "\n",
    "- pdr.DataReader(stocks, 'yahoo', start, end)\n",
    "- pdr.get_data_yahoo(stocks, start, end)"
   ]
  },
  {
   "cell_type": "code",
   "execution_count": 32,
   "metadata": {},
   "outputs": [
    {
     "name": "stderr",
     "output_type": "stream",
     "text": [
      "[*********************100%%**********************]  4 of 4 completed\n"
     ]
    },
    {
     "data": {
      "text/html": [
       "<div>\n",
       "<style scoped>\n",
       "    .dataframe tbody tr th:only-of-type {\n",
       "        vertical-align: middle;\n",
       "    }\n",
       "\n",
       "    .dataframe tbody tr th {\n",
       "        vertical-align: top;\n",
       "    }\n",
       "\n",
       "    .dataframe thead tr th {\n",
       "        text-align: left;\n",
       "    }\n",
       "\n",
       "    .dataframe thead tr:last-of-type th {\n",
       "        text-align: right;\n",
       "    }\n",
       "</style>\n",
       "<table border=\"1\" class=\"dataframe\">\n",
       "  <thead>\n",
       "    <tr>\n",
       "      <th>Price</th>\n",
       "      <th colspan=\"4\" halign=\"left\">Adj Close</th>\n",
       "      <th colspan=\"4\" halign=\"left\">Close</th>\n",
       "      <th colspan=\"2\" halign=\"left\">High</th>\n",
       "      <th>...</th>\n",
       "      <th colspan=\"2\" halign=\"left\">Low</th>\n",
       "      <th colspan=\"4\" halign=\"left\">Open</th>\n",
       "      <th colspan=\"4\" halign=\"left\">Volume</th>\n",
       "    </tr>\n",
       "    <tr>\n",
       "      <th>Ticker</th>\n",
       "      <th>ANZ.AX</th>\n",
       "      <th>CBA.AX</th>\n",
       "      <th>NAB.AX</th>\n",
       "      <th>WBC.AX</th>\n",
       "      <th>ANZ.AX</th>\n",
       "      <th>CBA.AX</th>\n",
       "      <th>NAB.AX</th>\n",
       "      <th>WBC.AX</th>\n",
       "      <th>ANZ.AX</th>\n",
       "      <th>CBA.AX</th>\n",
       "      <th>...</th>\n",
       "      <th>NAB.AX</th>\n",
       "      <th>WBC.AX</th>\n",
       "      <th>ANZ.AX</th>\n",
       "      <th>CBA.AX</th>\n",
       "      <th>NAB.AX</th>\n",
       "      <th>WBC.AX</th>\n",
       "      <th>ANZ.AX</th>\n",
       "      <th>CBA.AX</th>\n",
       "      <th>NAB.AX</th>\n",
       "      <th>WBC.AX</th>\n",
       "    </tr>\n",
       "    <tr>\n",
       "      <th>Date</th>\n",
       "      <th></th>\n",
       "      <th></th>\n",
       "      <th></th>\n",
       "      <th></th>\n",
       "      <th></th>\n",
       "      <th></th>\n",
       "      <th></th>\n",
       "      <th></th>\n",
       "      <th></th>\n",
       "      <th></th>\n",
       "      <th></th>\n",
       "      <th></th>\n",
       "      <th></th>\n",
       "      <th></th>\n",
       "      <th></th>\n",
       "      <th></th>\n",
       "      <th></th>\n",
       "      <th></th>\n",
       "      <th></th>\n",
       "      <th></th>\n",
       "      <th></th>\n",
       "    </tr>\n",
       "  </thead>\n",
       "  <tbody>\n",
       "    <tr>\n",
       "      <th>2000-10-24</th>\n",
       "      <td>3.806660</td>\n",
       "      <td>8.489178</td>\n",
       "      <td>6.823692</td>\n",
       "      <td>3.933363</td>\n",
       "      <td>13.516189</td>\n",
       "      <td>28.717409</td>\n",
       "      <td>25.688433</td>\n",
       "      <td>13.169343</td>\n",
       "      <td>13.535146</td>\n",
       "      <td>28.933239</td>\n",
       "      <td>...</td>\n",
       "      <td>25.637062</td>\n",
       "      <td>13.140539</td>\n",
       "      <td>13.355056</td>\n",
       "      <td>28.395155</td>\n",
       "      <td>25.684628</td>\n",
       "      <td>13.229930</td>\n",
       "      <td>2227359</td>\n",
       "      <td>2143560</td>\n",
       "      <td>3134133</td>\n",
       "      <td>4491693</td>\n",
       "    </tr>\n",
       "    <tr>\n",
       "      <th>2000-10-25</th>\n",
       "      <td>3.803990</td>\n",
       "      <td>8.570621</td>\n",
       "      <td>6.898489</td>\n",
       "      <td>3.963327</td>\n",
       "      <td>13.506711</td>\n",
       "      <td>28.992916</td>\n",
       "      <td>25.970013</td>\n",
       "      <td>13.269660</td>\n",
       "      <td>13.573059</td>\n",
       "      <td>29.002863</td>\n",
       "      <td>...</td>\n",
       "      <td>25.741705</td>\n",
       "      <td>13.170336</td>\n",
       "      <td>13.440362</td>\n",
       "      <td>28.744263</td>\n",
       "      <td>25.774048</td>\n",
       "      <td>13.190201</td>\n",
       "      <td>1690089</td>\n",
       "      <td>1300898</td>\n",
       "      <td>3968422</td>\n",
       "      <td>3071042</td>\n",
       "    </tr>\n",
       "    <tr>\n",
       "      <th>2000-10-26</th>\n",
       "      <td>3.840027</td>\n",
       "      <td>8.555920</td>\n",
       "      <td>6.873222</td>\n",
       "      <td>3.981127</td>\n",
       "      <td>13.634669</td>\n",
       "      <td>28.943186</td>\n",
       "      <td>25.874884</td>\n",
       "      <td>13.329254</td>\n",
       "      <td>13.734192</td>\n",
       "      <td>29.052593</td>\n",
       "      <td>...</td>\n",
       "      <td>25.827320</td>\n",
       "      <td>13.210065</td>\n",
       "      <td>13.497232</td>\n",
       "      <td>28.833778</td>\n",
       "      <td>25.905325</td>\n",
       "      <td>13.229930</td>\n",
       "      <td>3618676</td>\n",
       "      <td>1966507</td>\n",
       "      <td>2540594</td>\n",
       "      <td>4469929</td>\n",
       "    </tr>\n",
       "    <tr>\n",
       "      <th>2000-10-27</th>\n",
       "      <td>3.748999</td>\n",
       "      <td>8.436549</td>\n",
       "      <td>6.850477</td>\n",
       "      <td>3.939595</td>\n",
       "      <td>13.311456</td>\n",
       "      <td>28.539373</td>\n",
       "      <td>25.789268</td>\n",
       "      <td>13.190201</td>\n",
       "      <td>13.629930</td>\n",
       "      <td>29.052593</td>\n",
       "      <td>...</td>\n",
       "      <td>25.732191</td>\n",
       "      <td>13.190201</td>\n",
       "      <td>13.601495</td>\n",
       "      <td>28.853670</td>\n",
       "      <td>25.874884</td>\n",
       "      <td>13.349119</td>\n",
       "      <td>15664226</td>\n",
       "      <td>11065391</td>\n",
       "      <td>14662305</td>\n",
       "      <td>10787255</td>\n",
       "    </tr>\n",
       "    <tr>\n",
       "      <th>2000-10-30</th>\n",
       "      <td>3.787971</td>\n",
       "      <td>8.403031</td>\n",
       "      <td>6.807521</td>\n",
       "      <td>3.906962</td>\n",
       "      <td>13.449840</td>\n",
       "      <td>28.425987</td>\n",
       "      <td>25.627550</td>\n",
       "      <td>13.080944</td>\n",
       "      <td>13.506711</td>\n",
       "      <td>28.744263</td>\n",
       "      <td>...</td>\n",
       "      <td>25.513397</td>\n",
       "      <td>13.061080</td>\n",
       "      <td>13.333256</td>\n",
       "      <td>28.545341</td>\n",
       "      <td>25.702702</td>\n",
       "      <td>13.241849</td>\n",
       "      <td>2178095</td>\n",
       "      <td>1062856</td>\n",
       "      <td>1730181</td>\n",
       "      <td>1947736</td>\n",
       "    </tr>\n",
       "  </tbody>\n",
       "</table>\n",
       "<p>5 rows × 24 columns</p>\n",
       "</div>"
      ],
      "text/plain": [
       "Price      Adj Close                                    Close             \\\n",
       "Ticker        ANZ.AX    CBA.AX    NAB.AX    WBC.AX     ANZ.AX     CBA.AX   \n",
       "Date                                                                       \n",
       "2000-10-24  3.806660  8.489178  6.823692  3.933363  13.516189  28.717409   \n",
       "2000-10-25  3.803990  8.570621  6.898489  3.963327  13.506711  28.992916   \n",
       "2000-10-26  3.840027  8.555920  6.873222  3.981127  13.634669  28.943186   \n",
       "2000-10-27  3.748999  8.436549  6.850477  3.939595  13.311456  28.539373   \n",
       "2000-10-30  3.787971  8.403031  6.807521  3.906962  13.449840  28.425987   \n",
       "\n",
       "Price                                  High             ...        Low  \\\n",
       "Ticker         NAB.AX     WBC.AX     ANZ.AX     CBA.AX  ...     NAB.AX   \n",
       "Date                                                    ...              \n",
       "2000-10-24  25.688433  13.169343  13.535146  28.933239  ...  25.637062   \n",
       "2000-10-25  25.970013  13.269660  13.573059  29.002863  ...  25.741705   \n",
       "2000-10-26  25.874884  13.329254  13.734192  29.052593  ...  25.827320   \n",
       "2000-10-27  25.789268  13.190201  13.629930  29.052593  ...  25.732191   \n",
       "2000-10-30  25.627550  13.080944  13.506711  28.744263  ...  25.513397   \n",
       "\n",
       "Price                       Open                                     Volume  \\\n",
       "Ticker         WBC.AX     ANZ.AX     CBA.AX     NAB.AX     WBC.AX    ANZ.AX   \n",
       "Date                                                                          \n",
       "2000-10-24  13.140539  13.355056  28.395155  25.684628  13.229930   2227359   \n",
       "2000-10-25  13.170336  13.440362  28.744263  25.774048  13.190201   1690089   \n",
       "2000-10-26  13.210065  13.497232  28.833778  25.905325  13.229930   3618676   \n",
       "2000-10-27  13.190201  13.601495  28.853670  25.874884  13.349119  15664226   \n",
       "2000-10-30  13.061080  13.333256  28.545341  25.702702  13.241849   2178095   \n",
       "\n",
       "Price                                     \n",
       "Ticker        CBA.AX    NAB.AX    WBC.AX  \n",
       "Date                                      \n",
       "2000-10-24   2143560   3134133   4491693  \n",
       "2000-10-25   1300898   3968422   3071042  \n",
       "2000-10-26   1966507   2540594   4469929  \n",
       "2000-10-27  11065391  14662305  10787255  \n",
       "2000-10-30   1062856   1730181   1947736  \n",
       "\n",
       "[5 rows x 24 columns]"
      ]
     },
     "execution_count": 32,
     "metadata": {},
     "output_type": "execute_result"
    }
   ],
   "source": [
    "df = pdr.get_data_yahoo(stocks,start='2000-10-24', end='2024-01-01')\n",
    "df.head()"
   ]
  },
  {
   "cell_type": "code",
   "execution_count": 33,
   "metadata": {},
   "outputs": [
    {
     "data": {
      "text/html": [
       "<div>\n",
       "<style scoped>\n",
       "    .dataframe tbody tr th:only-of-type {\n",
       "        vertical-align: middle;\n",
       "    }\n",
       "\n",
       "    .dataframe tbody tr th {\n",
       "        vertical-align: top;\n",
       "    }\n",
       "\n",
       "    .dataframe thead th {\n",
       "        text-align: right;\n",
       "    }\n",
       "</style>\n",
       "<table border=\"1\" class=\"dataframe\">\n",
       "  <thead>\n",
       "    <tr style=\"text-align: right;\">\n",
       "      <th>Ticker</th>\n",
       "      <th>ANZ.AX</th>\n",
       "      <th>CBA.AX</th>\n",
       "      <th>NAB.AX</th>\n",
       "      <th>WBC.AX</th>\n",
       "    </tr>\n",
       "    <tr>\n",
       "      <th>Date</th>\n",
       "      <th></th>\n",
       "      <th></th>\n",
       "      <th></th>\n",
       "      <th></th>\n",
       "    </tr>\n",
       "  </thead>\n",
       "  <tbody>\n",
       "    <tr>\n",
       "      <th>2000-10-24</th>\n",
       "      <td>13.516189</td>\n",
       "      <td>28.717409</td>\n",
       "      <td>25.688433</td>\n",
       "      <td>13.169343</td>\n",
       "    </tr>\n",
       "    <tr>\n",
       "      <th>2000-10-25</th>\n",
       "      <td>13.506711</td>\n",
       "      <td>28.992916</td>\n",
       "      <td>25.970013</td>\n",
       "      <td>13.269660</td>\n",
       "    </tr>\n",
       "    <tr>\n",
       "      <th>2000-10-26</th>\n",
       "      <td>13.634669</td>\n",
       "      <td>28.943186</td>\n",
       "      <td>25.874884</td>\n",
       "      <td>13.329254</td>\n",
       "    </tr>\n",
       "    <tr>\n",
       "      <th>2000-10-27</th>\n",
       "      <td>13.311456</td>\n",
       "      <td>28.539373</td>\n",
       "      <td>25.789268</td>\n",
       "      <td>13.190201</td>\n",
       "    </tr>\n",
       "    <tr>\n",
       "      <th>2000-10-30</th>\n",
       "      <td>13.449840</td>\n",
       "      <td>28.425987</td>\n",
       "      <td>25.627550</td>\n",
       "      <td>13.080944</td>\n",
       "    </tr>\n",
       "  </tbody>\n",
       "</table>\n",
       "</div>"
      ],
      "text/plain": [
       "Ticker         ANZ.AX     CBA.AX     NAB.AX     WBC.AX\n",
       "Date                                                  \n",
       "2000-10-24  13.516189  28.717409  25.688433  13.169343\n",
       "2000-10-25  13.506711  28.992916  25.970013  13.269660\n",
       "2000-10-26  13.634669  28.943186  25.874884  13.329254\n",
       "2000-10-27  13.311456  28.539373  25.789268  13.190201\n",
       "2000-10-30  13.449840  28.425987  25.627550  13.080944"
      ]
     },
     "execution_count": 33,
     "metadata": {},
     "output_type": "execute_result"
    }
   ],
   "source": [
    "close = df.Close\n",
    "close.head()"
   ]
  },
  {
   "cell_type": "markdown",
   "metadata": {},
   "source": [
    "### 4 - Getting more information with pandas"
   ]
  },
  {
   "cell_type": "code",
   "execution_count": 34,
   "metadata": {},
   "outputs": [
    {
     "data": {
      "text/html": [
       "<div>\n",
       "<style scoped>\n",
       "    .dataframe tbody tr th:only-of-type {\n",
       "        vertical-align: middle;\n",
       "    }\n",
       "\n",
       "    .dataframe tbody tr th {\n",
       "        vertical-align: top;\n",
       "    }\n",
       "\n",
       "    .dataframe thead th {\n",
       "        text-align: right;\n",
       "    }\n",
       "</style>\n",
       "<table border=\"1\" class=\"dataframe\">\n",
       "  <thead>\n",
       "    <tr style=\"text-align: right;\">\n",
       "      <th>Ticker</th>\n",
       "      <th>ANZ.AX</th>\n",
       "      <th>CBA.AX</th>\n",
       "      <th>NAB.AX</th>\n",
       "      <th>WBC.AX</th>\n",
       "    </tr>\n",
       "  </thead>\n",
       "  <tbody>\n",
       "    <tr>\n",
       "      <th>count</th>\n",
       "      <td>5897.000000</td>\n",
       "      <td>5897.000000</td>\n",
       "      <td>5897.000000</td>\n",
       "      <td>5897.000000</td>\n",
       "    </tr>\n",
       "    <tr>\n",
       "      <th>mean</th>\n",
       "      <td>23.715882</td>\n",
       "      <td>60.538506</td>\n",
       "      <td>28.373218</td>\n",
       "      <td>23.612670</td>\n",
       "    </tr>\n",
       "    <tr>\n",
       "      <th>std</th>\n",
       "      <td>5.227347</td>\n",
       "      <td>23.612479</td>\n",
       "      <td>4.652396</td>\n",
       "      <td>6.012196</td>\n",
       "    </tr>\n",
       "    <tr>\n",
       "      <th>min</th>\n",
       "      <td>11.795907</td>\n",
       "      <td>23.074980</td>\n",
       "      <td>13.880000</td>\n",
       "      <td>11.968518</td>\n",
       "    </tr>\n",
       "    <tr>\n",
       "      <th>10%</th>\n",
       "      <td>16.634581</td>\n",
       "      <td>30.037258</td>\n",
       "      <td>22.684283</td>\n",
       "      <td>15.544175</td>\n",
       "    </tr>\n",
       "    <tr>\n",
       "      <th>50%</th>\n",
       "      <td>24.137463</td>\n",
       "      <td>56.434238</td>\n",
       "      <td>28.471886</td>\n",
       "      <td>23.250000</td>\n",
       "    </tr>\n",
       "    <tr>\n",
       "      <th>90%</th>\n",
       "      <td>30.119743</td>\n",
       "      <td>95.764000</td>\n",
       "      <td>33.675400</td>\n",
       "      <td>32.104871</td>\n",
       "    </tr>\n",
       "    <tr>\n",
       "      <th>max</th>\n",
       "      <td>36.895695</td>\n",
       "      <td>112.290001</td>\n",
       "      <td>42.655506</td>\n",
       "      <td>39.620266</td>\n",
       "    </tr>\n",
       "  </tbody>\n",
       "</table>\n",
       "</div>"
      ],
      "text/plain": [
       "Ticker       ANZ.AX       CBA.AX       NAB.AX       WBC.AX\n",
       "count   5897.000000  5897.000000  5897.000000  5897.000000\n",
       "mean      23.715882    60.538506    28.373218    23.612670\n",
       "std        5.227347    23.612479     4.652396     6.012196\n",
       "min       11.795907    23.074980    13.880000    11.968518\n",
       "10%       16.634581    30.037258    22.684283    15.544175\n",
       "50%       24.137463    56.434238    28.471886    23.250000\n",
       "90%       30.119743    95.764000    33.675400    32.104871\n",
       "max       36.895695   112.290001    42.655506    39.620266"
      ]
     },
     "execution_count": 34,
     "metadata": {},
     "output_type": "execute_result"
    }
   ],
   "source": [
    "close.describe(percentiles=[0.1,0.5,0.9])"
   ]
  },
  {
   "cell_type": "markdown",
   "metadata": {},
   "source": [
    "### 5 - Plotting the information with matplotlib or plotly"
   ]
  },
  {
   "cell_type": "code",
   "execution_count": 35,
   "metadata": {},
   "outputs": [
    {
     "data": {
      "text/plain": [
       "<Axes: xlabel='Date'>"
      ]
     },
     "execution_count": 35,
     "metadata": {},
     "output_type": "execute_result"
    },
    {
     "data": {
      "image/png": "[encoded data removed]",
      "text/plain": [
       "<Figure size 640x480 with 1 Axes>"
      ]
     },
     "metadata": {},
     "output_type": "display_data"
    }
   ],
   "source": [
    "close.plot()"
   ]
  }
 ],
 "metadata": {
  "kernelspec": {
   "display_name": "Python 3",
   "language": "python",
   "name": "python3"
  },
  "language_info": {
   "codemirror_mode": {
    "name": "ipython",
    "version": 3
   },
   "file_extension": ".py",
   "mimetype": "text/x-python",
   "name": "python",
   "nbconvert_exporter": "python",
   "pygments_lexer": "ipython3",
   "version": "3.10.7"
  }
 },
 "nbformat": 4,
 "nbformat_minor": 2
}
